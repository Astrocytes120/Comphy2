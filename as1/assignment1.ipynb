{
 "cells": [
  {
   "cell_type": "markdown",
   "metadata": {},
   "source": [
    "## Github desktop"
   ]
  },
  {
   "cell_type": "markdown",
   "metadata": {},
   "source": [
    "다음의 차례대로 깃허브 사용법을 익히고 아래 과제를 자신의 깃허브 저장소에 업로드(push)하시기 바랍니다.\n",
    "1. github에 계정을 만든다.\n",
    "2. 새로운 저장소(repository)를 만든다. (create a new repository)\n",
    "3. github desktop을 다운로드 및 설치한다.\n",
    "4. 온라인 상의 저장소를 로컬컴퓨터로 가져온다. (pull)\n",
    "5. commit, push로 내 컴퓨터에 있는 파일을 저장소에 업데이트한다.\n",
    "\n",
    "참고 : 구글에 \"깃허브 사용법\", \"깃허브 데스크탑 사용법\"을 검색하세요."
   ]
  },
  {
   "cell_type": "markdown",
   "metadata": {},
   "source": [
    "## 구구단"
   ]
  },
  {
   "cell_type": "markdown",
   "metadata": {},
   "source": [
    "1. 구구단 1단부터 9단까지 출력하는 코드를 작성하여 ipynb파일로 저장한다.\n",
    "2. 자신의 github에 과제를 제출한다.\n",
    "3. 자신의 github주소를 ecampus에 과제에 올린다."
   ]
  },
  {
   "cell_type": "code",
   "execution_count": 25,
   "metadata": {},
   "outputs": [],
   "source": [
    "import numpy as np\n",
    "import pandas as pd"
   ]
  },
  {
   "cell_type": "code",
   "execution_count": 26,
   "metadata": {},
   "outputs": [],
   "source": [
    "list_=[]\n",
    "col=[]\n",
    "\n",
    "for idx in range(1,10):\n",
    "    col.append(str(idx)+' Times')\n",
    "    for jdx in range(1,10):\n",
    "        list_.append(str(jdx)+' x '+str(idx)+' = '+str(idx*jdx))"
   ]
  },
  {
   "cell_type": "code",
   "execution_count": 27,
   "metadata": {},
   "outputs": [],
   "source": [
    "list_=np.array(list_)\n",
    "list_=list_.reshape(9,9)\n",
    "df=pd.DataFrame(list_,columns=col,index=range(1,10))"
   ]
  },
  {
   "cell_type": "code",
   "execution_count": 28,
   "metadata": {},
   "outputs": [
    {
     "data": {
      "text/html": [
       "<div>\n",
       "<style scoped>\n",
       "    .dataframe tbody tr th:only-of-type {\n",
       "        vertical-align: middle;\n",
       "    }\n",
       "\n",
       "    .dataframe tbody tr th {\n",
       "        vertical-align: top;\n",
       "    }\n",
       "\n",
       "    .dataframe thead th {\n",
       "        text-align: right;\n",
       "    }\n",
       "</style>\n",
       "<table border=\"1\" class=\"dataframe\">\n",
       "  <thead>\n",
       "    <tr style=\"text-align: right;\">\n",
       "      <th></th>\n",
       "      <th>1 Times</th>\n",
       "      <th>2 Times</th>\n",
       "      <th>3 Times</th>\n",
       "      <th>4 Times</th>\n",
       "      <th>5 Times</th>\n",
       "      <th>6 Times</th>\n",
       "      <th>7 Times</th>\n",
       "      <th>8 Times</th>\n",
       "      <th>9 Times</th>\n",
       "    </tr>\n",
       "  </thead>\n",
       "  <tbody>\n",
       "    <tr>\n",
       "      <th>1</th>\n",
       "      <td>1 x 1 = 1</td>\n",
       "      <td>2 x 1 = 2</td>\n",
       "      <td>3 x 1 = 3</td>\n",
       "      <td>4 x 1 = 4</td>\n",
       "      <td>5 x 1 = 5</td>\n",
       "      <td>6 x 1 = 6</td>\n",
       "      <td>7 x 1 = 7</td>\n",
       "      <td>8 x 1 = 8</td>\n",
       "      <td>9 x 1 = 9</td>\n",
       "    </tr>\n",
       "    <tr>\n",
       "      <th>2</th>\n",
       "      <td>1 x 2 = 2</td>\n",
       "      <td>2 x 2 = 4</td>\n",
       "      <td>3 x 2 = 6</td>\n",
       "      <td>4 x 2 = 8</td>\n",
       "      <td>5 x 2 = 10</td>\n",
       "      <td>6 x 2 = 12</td>\n",
       "      <td>7 x 2 = 14</td>\n",
       "      <td>8 x 2 = 16</td>\n",
       "      <td>9 x 2 = 18</td>\n",
       "    </tr>\n",
       "    <tr>\n",
       "      <th>3</th>\n",
       "      <td>1 x 3 = 3</td>\n",
       "      <td>2 x 3 = 6</td>\n",
       "      <td>3 x 3 = 9</td>\n",
       "      <td>4 x 3 = 12</td>\n",
       "      <td>5 x 3 = 15</td>\n",
       "      <td>6 x 3 = 18</td>\n",
       "      <td>7 x 3 = 21</td>\n",
       "      <td>8 x 3 = 24</td>\n",
       "      <td>9 x 3 = 27</td>\n",
       "    </tr>\n",
       "    <tr>\n",
       "      <th>4</th>\n",
       "      <td>1 x 4 = 4</td>\n",
       "      <td>2 x 4 = 8</td>\n",
       "      <td>3 x 4 = 12</td>\n",
       "      <td>4 x 4 = 16</td>\n",
       "      <td>5 x 4 = 20</td>\n",
       "      <td>6 x 4 = 24</td>\n",
       "      <td>7 x 4 = 28</td>\n",
       "      <td>8 x 4 = 32</td>\n",
       "      <td>9 x 4 = 36</td>\n",
       "    </tr>\n",
       "    <tr>\n",
       "      <th>5</th>\n",
       "      <td>1 x 5 = 5</td>\n",
       "      <td>2 x 5 = 10</td>\n",
       "      <td>3 x 5 = 15</td>\n",
       "      <td>4 x 5 = 20</td>\n",
       "      <td>5 x 5 = 25</td>\n",
       "      <td>6 x 5 = 30</td>\n",
       "      <td>7 x 5 = 35</td>\n",
       "      <td>8 x 5 = 40</td>\n",
       "      <td>9 x 5 = 45</td>\n",
       "    </tr>\n",
       "    <tr>\n",
       "      <th>6</th>\n",
       "      <td>1 x 6 = 6</td>\n",
       "      <td>2 x 6 = 12</td>\n",
       "      <td>3 x 6 = 18</td>\n",
       "      <td>4 x 6 = 24</td>\n",
       "      <td>5 x 6 = 30</td>\n",
       "      <td>6 x 6 = 36</td>\n",
       "      <td>7 x 6 = 42</td>\n",
       "      <td>8 x 6 = 48</td>\n",
       "      <td>9 x 6 = 54</td>\n",
       "    </tr>\n",
       "    <tr>\n",
       "      <th>7</th>\n",
       "      <td>1 x 7 = 7</td>\n",
       "      <td>2 x 7 = 14</td>\n",
       "      <td>3 x 7 = 21</td>\n",
       "      <td>4 x 7 = 28</td>\n",
       "      <td>5 x 7 = 35</td>\n",
       "      <td>6 x 7 = 42</td>\n",
       "      <td>7 x 7 = 49</td>\n",
       "      <td>8 x 7 = 56</td>\n",
       "      <td>9 x 7 = 63</td>\n",
       "    </tr>\n",
       "    <tr>\n",
       "      <th>8</th>\n",
       "      <td>1 x 8 = 8</td>\n",
       "      <td>2 x 8 = 16</td>\n",
       "      <td>3 x 8 = 24</td>\n",
       "      <td>4 x 8 = 32</td>\n",
       "      <td>5 x 8 = 40</td>\n",
       "      <td>6 x 8 = 48</td>\n",
       "      <td>7 x 8 = 56</td>\n",
       "      <td>8 x 8 = 64</td>\n",
       "      <td>9 x 8 = 72</td>\n",
       "    </tr>\n",
       "    <tr>\n",
       "      <th>9</th>\n",
       "      <td>1 x 9 = 9</td>\n",
       "      <td>2 x 9 = 18</td>\n",
       "      <td>3 x 9 = 27</td>\n",
       "      <td>4 x 9 = 36</td>\n",
       "      <td>5 x 9 = 45</td>\n",
       "      <td>6 x 9 = 54</td>\n",
       "      <td>7 x 9 = 63</td>\n",
       "      <td>8 x 9 = 72</td>\n",
       "      <td>9 x 9 = 81</td>\n",
       "    </tr>\n",
       "  </tbody>\n",
       "</table>\n",
       "</div>"
      ],
      "text/plain": [
       "     1 Times     2 Times     3 Times     4 Times     5 Times     6 Times  \\\n",
       "1  1 x 1 = 1   2 x 1 = 2   3 x 1 = 3   4 x 1 = 4   5 x 1 = 5   6 x 1 = 6   \n",
       "2  1 x 2 = 2   2 x 2 = 4   3 x 2 = 6   4 x 2 = 8  5 x 2 = 10  6 x 2 = 12   \n",
       "3  1 x 3 = 3   2 x 3 = 6   3 x 3 = 9  4 x 3 = 12  5 x 3 = 15  6 x 3 = 18   \n",
       "4  1 x 4 = 4   2 x 4 = 8  3 x 4 = 12  4 x 4 = 16  5 x 4 = 20  6 x 4 = 24   \n",
       "5  1 x 5 = 5  2 x 5 = 10  3 x 5 = 15  4 x 5 = 20  5 x 5 = 25  6 x 5 = 30   \n",
       "6  1 x 6 = 6  2 x 6 = 12  3 x 6 = 18  4 x 6 = 24  5 x 6 = 30  6 x 6 = 36   \n",
       "7  1 x 7 = 7  2 x 7 = 14  3 x 7 = 21  4 x 7 = 28  5 x 7 = 35  6 x 7 = 42   \n",
       "8  1 x 8 = 8  2 x 8 = 16  3 x 8 = 24  4 x 8 = 32  5 x 8 = 40  6 x 8 = 48   \n",
       "9  1 x 9 = 9  2 x 9 = 18  3 x 9 = 27  4 x 9 = 36  5 x 9 = 45  6 x 9 = 54   \n",
       "\n",
       "      7 Times     8 Times     9 Times  \n",
       "1   7 x 1 = 7   8 x 1 = 8   9 x 1 = 9  \n",
       "2  7 x 2 = 14  8 x 2 = 16  9 x 2 = 18  \n",
       "3  7 x 3 = 21  8 x 3 = 24  9 x 3 = 27  \n",
       "4  7 x 4 = 28  8 x 4 = 32  9 x 4 = 36  \n",
       "5  7 x 5 = 35  8 x 5 = 40  9 x 5 = 45  \n",
       "6  7 x 6 = 42  8 x 6 = 48  9 x 6 = 54  \n",
       "7  7 x 7 = 49  8 x 7 = 56  9 x 7 = 63  \n",
       "8  7 x 8 = 56  8 x 8 = 64  9 x 8 = 72  \n",
       "9  7 x 9 = 63  8 x 9 = 72  9 x 9 = 81  "
      ]
     },
     "execution_count": 28,
     "metadata": {},
     "output_type": "execute_result"
    }
   ],
   "source": [
    "df"
   ]
  },
  {
   "cell_type": "markdown",
   "metadata": {},
   "source": [
    "### Save to Excel"
   ]
  },
  {
   "cell_type": "code",
   "execution_count": 35,
   "metadata": {},
   "outputs": [],
   "source": [
    "df.to_excel('Multiplication_Table.xlsx')"
   ]
  },
  {
   "cell_type": "code",
   "execution_count": null,
   "metadata": {},
   "outputs": [],
   "source": []
  }
 ],
 "metadata": {
  "kernelspec": {
   "display_name": "Python 3",
   "language": "python",
   "name": "python3"
  },
  "language_info": {
   "codemirror_mode": {
    "name": "ipython",
    "version": 3
   },
   "file_extension": ".py",
   "mimetype": "text/x-python",
   "name": "python",
   "nbconvert_exporter": "python",
   "pygments_lexer": "ipython3",
   "version": "3.7.6"
  }
 },
 "nbformat": 4,
 "nbformat_minor": 2
}
