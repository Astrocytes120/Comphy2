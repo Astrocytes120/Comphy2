{
 "cells": [
  {
   "cell_type": "markdown",
   "metadata": {},
   "source": [
    "* 모든 숙제는 자신의 github에 게시하세요."
   ]
  },
  {
   "cell_type": "markdown",
   "metadata": {},
   "source": [
    "## 1. 구구단 함수"
   ]
  },
  {
   "cell_type": "markdown",
   "metadata": {},
   "source": [
    "구구단 몇 단을 출력할 것인지를 입력받아 구구단을 출력하는 함수를 작성하여라."
   ]
  },
  {
   "cell_type": "code",
   "execution_count": 11,
   "metadata": {},
   "outputs": [],
   "source": [
    "def multi(x):\n",
    "    multi_=[]\n",
    "    print(str(x)+' times \\n')\n",
    "    for idx in range(1,10,1):\n",
    "        multi_.append(idx*x)\n",
    "        print(str(x)+' x '+str(idx)+' = '+str(idx*x),'\\n')\n",
    "    return multi_"
   ]
  },
  {
   "cell_type": "markdown",
   "metadata": {},
   "source": [
    "처음에는 Numpy를 이용해서, for을 사용하지 않고 만들려고 했습니다.\n",
    "그러나, Numpy 각 인수를 문자열로 바꾸려면 결국에 for문이 필요해서 위와 같이 하였습니다."
   ]
  },
  {
   "cell_type": "code",
   "execution_count": 12,
   "metadata": {},
   "outputs": [
    {
     "name": "stdout",
     "output_type": "stream",
     "text": [
      "8 times \n",
      "\n",
      "8 x 1 = 8 \n",
      "\n",
      "8 x 2 = 16 \n",
      "\n",
      "8 x 3 = 24 \n",
      "\n",
      "8 x 4 = 32 \n",
      "\n",
      "8 x 5 = 40 \n",
      "\n",
      "8 x 6 = 48 \n",
      "\n",
      "8 x 7 = 56 \n",
      "\n",
      "8 x 8 = 64 \n",
      "\n",
      "8 x 9 = 72 \n",
      "\n",
      "[8, 16, 24, 32, 40, 48, 56, 64, 72]\n"
     ]
    }
   ],
   "source": [
    "print(multi(8))"
   ]
  },
  {
   "cell_type": "markdown",
   "metadata": {},
   "source": [
    "따라서 출력에 집착하지 않고, 결과에만 집중하면 다음과 같이 짧게 만들 수 있습니다."
   ]
  },
  {
   "cell_type": "code",
   "execution_count": 13,
   "metadata": {},
   "outputs": [
    {
     "name": "stdout",
     "output_type": "stream",
     "text": [
      "[ 7 14 21 28 35 42 49 56 63]\n"
     ]
    }
   ],
   "source": [
    "import numpy as np\n",
    "\n",
    "def multi_num(x):\n",
    "    val=x*np.arange(1,10,1)\n",
    "    return val\n",
    "\n",
    "print(multi_num(7))"
   ]
  },
  {
   "cell_type": "markdown",
   "metadata": {},
   "source": [
    "## 2. 홀수/짝수 판별"
   ]
  },
  {
   "cell_type": "markdown",
   "metadata": {},
   "source": [
    "숫자를 하나 입력받아 홀수인지 짝수인지 판별하는 함수를 작성하여라.  \n",
    "다음의 정보가 도움이 될 수 있다.\n",
    "* \"%\"는 나머지를 출력하는 연산이다."
   ]
  },
  {
   "cell_type": "code",
   "execution_count": 14,
   "metadata": {},
   "outputs": [],
   "source": [
    "def evenorodd(y):\n",
    "    try :\n",
    "        if y-int(y) !=0 :\n",
    "            print('Please check whether the number is integer or not.')\n",
    "        elif y%2 ==1:\n",
    "            print(str(y)+' is an odd.')\n",
    "        else:\n",
    "            print(str(y)+' is an even')\n",
    "    except:\n",
    "        print('Please input number.')"
   ]
  },
  {
   "cell_type": "code",
   "execution_count": 15,
   "metadata": {},
   "outputs": [
    {
     "name": "stdout",
     "output_type": "stream",
     "text": [
      "Please check whether the number is integer or not.\n"
     ]
    }
   ],
   "source": [
    "evenorodd(1732.9)"
   ]
  },
  {
   "cell_type": "code",
   "execution_count": 16,
   "metadata": {},
   "outputs": [
    {
     "name": "stdout",
     "output_type": "stream",
     "text": [
      "123985 is an odd.\n"
     ]
    }
   ],
   "source": [
    "evenorodd(123985)"
   ]
  },
  {
   "cell_type": "code",
   "execution_count": 17,
   "metadata": {},
   "outputs": [
    {
     "name": "stdout",
     "output_type": "stream",
     "text": [
      "-12 is an even\n"
     ]
    }
   ],
   "source": [
    "evenorodd(-12)"
   ]
  },
  {
   "cell_type": "code",
   "execution_count": 18,
   "metadata": {},
   "outputs": [
    {
     "name": "stdout",
     "output_type": "stream",
     "text": [
      "Please input number.\n"
     ]
    }
   ],
   "source": [
    "evenorodd('str')"
   ]
  },
  {
   "cell_type": "markdown",
   "metadata": {},
   "source": [
    "## 3. 평균"
   ]
  },
  {
   "cell_type": "markdown",
   "metadata": {},
   "source": [
    "숫자로 이루어져 있는 리스트를 입력받아 숫자들의 평균을 계산하는 함수를 작성하여라.  \n",
    "다음의 정보가 도움이 될 수 있다.\n",
    "* \"len()\"은 리스트의 길이를 출력하는 함수이다."
   ]
  },
  {
   "cell_type": "code",
   "execution_count": 19,
   "metadata": {},
   "outputs": [],
   "source": [
    "def avg(a):\n",
    "    try:\n",
    "        if type(a) == int or type(a) == float:\n",
    "            return a\n",
    "        else:\n",
    "            val = 0\n",
    "            for idx in a:\n",
    "                val += idx\n",
    "            return val/len(a)\n",
    "    except:\n",
    "        return print(\"Please check your data type! it must be list that is consisted with number!\")"
   ]
  },
  {
   "cell_type": "code",
   "execution_count": 20,
   "metadata": {},
   "outputs": [
    {
     "data": {
      "text/plain": [
       "91.0"
      ]
     },
     "execution_count": 20,
     "metadata": {},
     "output_type": "execute_result"
    }
   ],
   "source": [
    "avg([10,15,20,29,275,5,283])"
   ]
  },
  {
   "cell_type": "code",
   "execution_count": 21,
   "metadata": {},
   "outputs": [
    {
     "name": "stdout",
     "output_type": "stream",
     "text": [
      "Please check your data type! it must be list that is consisted with number!\n"
     ]
    }
   ],
   "source": [
    "avg('st')"
   ]
  },
  {
   "cell_type": "code",
   "execution_count": 22,
   "metadata": {},
   "outputs": [
    {
     "data": {
      "text/plain": [
       "3.141592"
      ]
     },
     "execution_count": 22,
     "metadata": {},
     "output_type": "execute_result"
    }
   ],
   "source": [
    "avg(3.141592)"
   ]
  },
  {
   "cell_type": "code",
   "execution_count": 23,
   "metadata": {},
   "outputs": [
    {
     "data": {
      "text/plain": [
       "3.141592"
      ]
     },
     "execution_count": 23,
     "metadata": {},
     "output_type": "execute_result"
    }
   ],
   "source": [
    "avg([3.141592])"
   ]
  },
  {
   "cell_type": "code",
   "execution_count": 24,
   "metadata": {},
   "outputs": [
    {
     "name": "stdout",
     "output_type": "stream",
     "text": [
      "Please check your data type! it must be list that is consisted with number!\n"
     ]
    }
   ],
   "source": [
    "avg([1,1,'10'])"
   ]
  }
 ],
 "metadata": {
  "kernelspec": {
   "display_name": "Python 3",
   "language": "python",
   "name": "python3"
  },
  "language_info": {
   "codemirror_mode": {
    "name": "ipython",
    "version": 3
   },
   "file_extension": ".py",
   "mimetype": "text/x-python",
   "name": "python",
   "nbconvert_exporter": "python",
   "pygments_lexer": "ipython3",
   "version": "3.7.6"
  }
 },
 "nbformat": 4,
 "nbformat_minor": 2
}
